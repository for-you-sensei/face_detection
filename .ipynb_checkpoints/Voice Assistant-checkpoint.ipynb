{
 "cells": [
  {
   "cell_type": "code",
   "execution_count": 1,
   "id": "35d0680f",
   "metadata": {},
   "outputs": [
    {
     "name": "stdout",
     "output_type": "stream",
     "text": [
      "Requirement already satisfied: pyttsx3 in d:\\anaconda\\lib\\site-packages (2.90)\n",
      "Requirement already satisfied: comtypes in d:\\anaconda\\lib\\site-packages (from pyttsx3) (1.4.1)\n",
      "Requirement already satisfied: pypiwin32 in d:\\anaconda\\lib\\site-packages (from pyttsx3) (223)\n",
      "Requirement already satisfied: pywin32 in d:\\anaconda\\lib\\site-packages (from pyttsx3) (305.1)\n"
     ]
    },
    {
     "name": "stderr",
     "output_type": "stream",
     "text": [
      "\n",
      "[notice] A new release of pip is available: 23.3.1 -> 24.0\n",
      "[notice] To update, run: python.exe -m pip install --upgrade pip\n"
     ]
    }
   ],
   "source": [
    "!pip install pyttsx3"
   ]
  },
  {
   "cell_type": "code",
   "execution_count": 2,
   "id": "9a8acb26",
   "metadata": {},
   "outputs": [
    {
     "name": "stdout",
     "output_type": "stream",
     "text": [
      "Requirement already satisfied: SpeechRecognition in d:\\anaconda\\lib\\site-packages (3.10.3)\n",
      "Requirement already satisfied: requests>=2.26.0 in d:\\anaconda\\lib\\site-packages (from SpeechRecognition) (2.31.0)\n",
      "Requirement already satisfied: typing-extensions in d:\\anaconda\\lib\\site-packages (from SpeechRecognition) (4.7.1)\n",
      "Requirement already satisfied: charset-normalizer<4,>=2 in d:\\anaconda\\lib\\site-packages (from requests>=2.26.0->SpeechRecognition) (2.0.4)\n",
      "Requirement already satisfied: idna<4,>=2.5 in d:\\anaconda\\lib\\site-packages (from requests>=2.26.0->SpeechRecognition) (3.4)\n",
      "Requirement already satisfied: urllib3<3,>=1.21.1 in d:\\anaconda\\lib\\site-packages (from requests>=2.26.0->SpeechRecognition) (1.26.16)\n",
      "Requirement already satisfied: certifi>=2017.4.17 in d:\\anaconda\\lib\\site-packages (from requests>=2.26.0->SpeechRecognition) (2023.7.22)\n"
     ]
    },
    {
     "name": "stderr",
     "output_type": "stream",
     "text": [
      "\n",
      "[notice] A new release of pip is available: 23.3.1 -> 24.0\n",
      "[notice] To update, run: python.exe -m pip install --upgrade pip\n"
     ]
    }
   ],
   "source": [
    "!pip install SpeechRecognition"
   ]
  },
  {
   "cell_type": "code",
   "execution_count": 3,
   "id": "f4517dc7",
   "metadata": {},
   "outputs": [
    {
     "name": "stderr",
     "output_type": "stream",
     "text": [
      "\n",
      "[notice] A new release of pip is available: 23.3.1 -> 24.0\n",
      "[notice] To update, run: python.exe -m pip install --upgrade pip\n"
     ]
    },
    {
     "name": "stdout",
     "output_type": "stream",
     "text": [
      "Requirement already satisfied: wikipedia in d:\\anaconda\\lib\\site-packages (1.4.0)\n",
      "Requirement already satisfied: beautifulsoup4 in d:\\anaconda\\lib\\site-packages (from wikipedia) (4.12.2)\n",
      "Requirement already satisfied: requests<3.0.0,>=2.0.0 in d:\\anaconda\\lib\\site-packages (from wikipedia) (2.31.0)\n",
      "Requirement already satisfied: charset-normalizer<4,>=2 in d:\\anaconda\\lib\\site-packages (from requests<3.0.0,>=2.0.0->wikipedia) (2.0.4)\n",
      "Requirement already satisfied: idna<4,>=2.5 in d:\\anaconda\\lib\\site-packages (from requests<3.0.0,>=2.0.0->wikipedia) (3.4)\n",
      "Requirement already satisfied: urllib3<3,>=1.21.1 in d:\\anaconda\\lib\\site-packages (from requests<3.0.0,>=2.0.0->wikipedia) (1.26.16)\n",
      "Requirement already satisfied: certifi>=2017.4.17 in d:\\anaconda\\lib\\site-packages (from requests<3.0.0,>=2.0.0->wikipedia) (2023.7.22)\n",
      "Requirement already satisfied: soupsieve>1.2 in d:\\anaconda\\lib\\site-packages (from beautifulsoup4->wikipedia) (2.4)\n"
     ]
    }
   ],
   "source": [
    "!pip install wikipedia"
   ]
  },
  {
   "cell_type": "code",
   "execution_count": 4,
   "id": "4ce405fd",
   "metadata": {},
   "outputs": [
    {
     "name": "stdout",
     "output_type": "stream",
     "text": [
      "Requirement already satisfied: ecapture in d:\\anaconda\\lib\\site-packages (2.0.2)\n",
      "Requirement already satisfied: opencv-python in d:\\anaconda\\lib\\site-packages (from ecapture) (4.8.1.78)\n",
      "Requirement already satisfied: numpy>=1.21.2 in d:\\anaconda\\lib\\site-packages (from opencv-python->ecapture) (1.24.3)\n"
     ]
    },
    {
     "name": "stderr",
     "output_type": "stream",
     "text": [
      "\n",
      "[notice] A new release of pip is available: 23.3.1 -> 24.0\n",
      "[notice] To update, run: python.exe -m pip install --upgrade pip\n"
     ]
    }
   ],
   "source": [
    "!pip install ecapture"
   ]
  },
  {
   "cell_type": "code",
   "execution_count": 5,
   "id": "a664851b",
   "metadata": {},
   "outputs": [
    {
     "name": "stdout",
     "output_type": "stream",
     "text": [
      "Requirement already satisfied: twilio in d:\\anaconda\\lib\\site-packages (9.0.4)\n",
      "Requirement already satisfied: requests>=2.0.0 in d:\\anaconda\\lib\\site-packages (from twilio) (2.31.0)\n",
      "Requirement already satisfied: PyJWT<3.0.0,>=2.0.0 in d:\\anaconda\\lib\\site-packages (from twilio) (2.4.0)\n",
      "Requirement already satisfied: aiohttp>=3.8.4 in d:\\anaconda\\lib\\site-packages (from twilio) (3.8.5)\n",
      "Requirement already satisfied: aiohttp-retry>=2.8.3 in d:\\anaconda\\lib\\site-packages (from twilio) (2.8.3)\n",
      "Requirement already satisfied: attrs>=17.3.0 in d:\\anaconda\\lib\\site-packages (from aiohttp>=3.8.4->twilio) (22.1.0)\n",
      "Requirement already satisfied: charset-normalizer<4.0,>=2.0 in d:\\anaconda\\lib\\site-packages (from aiohttp>=3.8.4->twilio) (2.0.4)\n",
      "Requirement already satisfied: multidict<7.0,>=4.5 in d:\\anaconda\\lib\\site-packages (from aiohttp>=3.8.4->twilio) (6.0.2)\n",
      "Requirement already satisfied: async-timeout<5.0,>=4.0.0a3 in d:\\anaconda\\lib\\site-packages (from aiohttp>=3.8.4->twilio) (4.0.2)\n",
      "Requirement already satisfied: yarl<2.0,>=1.0 in d:\\anaconda\\lib\\site-packages (from aiohttp>=3.8.4->twilio) (1.8.1)\n",
      "Requirement already satisfied: frozenlist>=1.1.1 in d:\\anaconda\\lib\\site-packages (from aiohttp>=3.8.4->twilio) (1.3.3)\n",
      "Requirement already satisfied: aiosignal>=1.1.2 in d:\\anaconda\\lib\\site-packages (from aiohttp>=3.8.4->twilio) (1.2.0)\n",
      "Requirement already satisfied: idna<4,>=2.5 in d:\\anaconda\\lib\\site-packages (from requests>=2.0.0->twilio) (3.4)\n",
      "Requirement already satisfied: urllib3<3,>=1.21.1 in d:\\anaconda\\lib\\site-packages (from requests>=2.0.0->twilio) (1.26.16)\n",
      "Requirement already satisfied: certifi>=2017.4.17 in d:\\anaconda\\lib\\site-packages (from requests>=2.0.0->twilio) (2023.7.22)\n"
     ]
    },
    {
     "name": "stderr",
     "output_type": "stream",
     "text": [
      "\n",
      "[notice] A new release of pip is available: 23.3.1 -> 24.0\n",
      "[notice] To update, run: python.exe -m pip install --upgrade pip\n"
     ]
    }
   ],
   "source": [
    "!pip install twilio"
   ]
  },
  {
   "cell_type": "code",
   "execution_count": 6,
   "id": "177aa07f",
   "metadata": {},
   "outputs": [
    {
     "name": "stdout",
     "output_type": "stream",
     "text": [
      "Requirement already satisfied: beautifulsoup4 in d:\\anaconda\\lib\\site-packages (4.12.2)\n",
      "Requirement already satisfied: soupsieve>1.2 in d:\\anaconda\\lib\\site-packages (from beautifulsoup4) (2.4)\n"
     ]
    },
    {
     "name": "stderr",
     "output_type": "stream",
     "text": [
      "\n",
      "[notice] A new release of pip is available: 23.3.1 -> 24.0\n",
      "[notice] To update, run: python.exe -m pip install --upgrade pip\n"
     ]
    }
   ],
   "source": [
    "!pip install beautifulsoup4"
   ]
  },
  {
   "cell_type": "code",
   "execution_count": 7,
   "id": "6dd801f1",
   "metadata": {},
   "outputs": [
    {
     "name": "stdout",
     "output_type": "stream",
     "text": [
      "Requirement already satisfied: pyjokes in d:\\anaconda\\lib\\site-packages (0.6.0)\n"
     ]
    },
    {
     "name": "stderr",
     "output_type": "stream",
     "text": [
      "\n",
      "[notice] A new release of pip is available: 23.3.1 -> 24.0\n",
      "[notice] To update, run: python.exe -m pip install --upgrade pip\n"
     ]
    }
   ],
   "source": [
    "!pip install pyjokes"
   ]
  },
  {
   "cell_type": "code",
   "execution_count": 8,
   "id": "c6321d4d",
   "metadata": {},
   "outputs": [
    {
     "name": "stdout",
     "output_type": "stream",
     "text": [
      "Requirement already satisfied: google in d:\\anaconda\\lib\\site-packages (3.0.0)\n",
      "Requirement already satisfied: beautifulsoup4 in d:\\anaconda\\lib\\site-packages (from google) (4.12.2)\n",
      "Requirement already satisfied: soupsieve>1.2 in d:\\anaconda\\lib\\site-packages (from beautifulsoup4->google) (2.4)\n"
     ]
    },
    {
     "name": "stderr",
     "output_type": "stream",
     "text": [
      "\n",
      "[notice] A new release of pip is available: 23.3.1 -> 24.0\n",
      "[notice] To update, run: python.exe -m pip install --upgrade pip\n"
     ]
    }
   ],
   "source": [
    "!pip install google"
   ]
  },
  {
   "cell_type": "code",
   "execution_count": 2,
   "id": "dc6fe87a",
   "metadata": {},
   "outputs": [],
   "source": [
    "import subprocess\n",
    "import pyttsx3\n",
    "import json\n",
    "import speech_recognition as sr\n",
    "import datetime\n",
    "import wikipedia\n",
    "import webbrowser\n",
    "import os\n",
    "import winshell\n",
    "import pyjokes\n",
    "import smtplib\n",
    "import ctypes\n",
    "import time \n",
    "import requests\n",
    "import shutil\n",
    "from twilio.rest import Client \n",
    "from clint.textui import progress\n",
    "from ecapture import ecapture as ec\n",
    "from bs4 import BeautifulSoup\n",
    "from urllib.request import urlopen\n",
    "import random\n",
    "import dlib\n",
    "import cv2\n",
    "import numpy as np\n",
    "import face_recognition\n",
    "from translate import Translator"
   ]
  },
  {
   "cell_type": "code",
   "execution_count": 3,
   "id": "282636eb",
   "metadata": {},
   "outputs": [],
   "source": [
    "engine = pyttsx3.init('sapi5')\n",
    "voices = engine.getProperty('voices')\n",
    "engine.setProperty('voice', voices[2].id)\n",
    "engine.setProperty('rate', 190)"
   ]
  },
  {
   "cell_type": "code",
   "execution_count": 4,
   "id": "bb62e4e0",
   "metadata": {},
   "outputs": [],
   "source": [
    "def speak(audio):\n",
    "    engine.say(audio)\n",
    "    engine.runAndWait()"
   ]
  },
  {
   "cell_type": "code",
   "execution_count": 5,
   "id": "73942756",
   "metadata": {},
   "outputs": [],
   "source": [
    "speak(\"привет как дела\")"
   ]
  },
  {
   "cell_type": "code",
   "execution_count": 6,
   "id": "a4ac2f62",
   "metadata": {},
   "outputs": [],
   "source": [
    "def wishMe():\n",
    "    hour = int(datetime.datetime.now().hour)\n",
    "    if hour>=0 and hour<12:\n",
    "        speak(\"Доброе утро сэр !\")\n",
    "    elif hour>=12 and hour<18:\n",
    "        speak(\"Добрыйдень сэр !\")\n",
    "    else:\n",
    "        speak(\"Добрый вечер сэр !\")\n",
    "    assname= (\" Алексия\")\n",
    "    speak(\"Я ваш ассистент\")\n",
    "    speak(assname)\n",
    "    \n",
    "wishMe()    "
   ]
  },
  {
   "cell_type": "code",
   "execution_count": 7,
   "id": "aef1daf4",
   "metadata": {
    "scrolled": true
   },
   "outputs": [],
   "source": [
    "import time\n",
    "def takeCommand():\n",
    "    r = sr.Recognizer()\n",
    "    with sr.Microphone() as source:\n",
    "        print(\"Слушаю\")\n",
    "        r.pause_treshold = 1\n",
    "        audio = r.listen(source)\n",
    "    try:\n",
    "        print(\"Распознавание\")\n",
    "        query = r.recognize_google(audio, language ='ru-en')\n",
    "        print(f\"Пользователь сказал: {query}\\n\")\n",
    "    except Exception as e:\n",
    "        print(e)\n",
    "        print(\"Не могу распознать ваш голос.\")\n",
    "        time.sleep(5)\n",
    "        return \"None\"\n",
    "    return str(query)\n",
    "#takeCommand()"
   ]
  },
  {
   "cell_type": "code",
   "execution_count": 20,
   "id": "4f416676",
   "metadata": {},
   "outputs": [
    {
     "name": "stdout",
     "output_type": "stream",
     "text": [
      "Requirement already satisfied: pyaudio in d:\\anaconda\\lib\\site-packages (0.2.14)\n"
     ]
    },
    {
     "name": "stderr",
     "output_type": "stream",
     "text": [
      "\n",
      "[notice] A new release of pip is available: 23.3.1 -> 24.0\n",
      "[notice] To update, run: python.exe -m pip install --upgrade pip\n"
     ]
    }
   ],
   "source": [
    "!pip install pyaudio"
   ]
  },
  {
   "cell_type": "code",
   "execution_count": 9,
   "id": "7de2f04c",
   "metadata": {},
   "outputs": [
    {
     "name": "stdout",
     "output_type": "stream",
     "text": [
      "Слушаю\n",
      "Распознавание\n",
      "Пользователь сказал: ноутбук\n",
      "\n",
      "Добро пожаловать, мистер. ноутбук\n"
     ]
    }
   ],
   "source": [
    "def username():\n",
    "    speak(\"Как мне следует вас называть\")\n",
    "    uname = takeCommand()\n",
    "    speak(\"добро пожаловать, мистер\")\n",
    "    speak(uname)\n",
    "    print(\"Добро пожаловать, мистер.\", uname)\n",
    "    speak(\"Чем я могу вам помочь\")\n",
    "    return uname\n",
    "user_n=username()"
   ]
  },
  {
   "cell_type": "code",
   "execution_count": 8,
   "id": "533d6f1a",
   "metadata": {},
   "outputs": [],
   "source": [
    "web_P = r\"C:\\Program Files\\Google\\Chrome\\Application\\chrome.exe\"\n",
    "webbrowser.register('Chrome', None, webbrowser.BackgroundBrowser(web_P))"
   ]
  },
  {
   "cell_type": "code",
   "execution_count": 11,
   "id": "d6efa283",
   "metadata": {},
   "outputs": [
    {
     "name": "stdout",
     "output_type": "stream",
     "text": [
      "Слушаю\n",
      "Распознавание\n",
      "Пользователь сказал: выключить\n",
      "\n",
      "Слушаю\n",
      "Распознавание\n",
      "Пользователь сказал: можешь выключить\n",
      "\n"
     ]
    }
   ],
   "source": [
    "file_path = r\"C:\\Users\\User\\Desktop\\face_det\\shape_predictor_68_face_landmarks.dat\"\n",
    "file2_path = r\"C:\\Users\\User\\Desktop\\face_det\\dlib_face_recognition_resnet_model_v1.dat\"\n",
    "\n",
    "detector = dlib.get_frontal_face_detector()\n",
    "sp = dlib.shape_predictor(file_path)\n",
    "facerec = dlib.face_recognition_model_v1(file2_path)\n",
    "path = r\"C:\\Users\\User\\Desktop\\face_det\\model.txt\"\n",
    "with open(path, 'r') as file:\n",
    "    data = file.read().replace(\"\\n\", '').replace(\"[\", '').replace(\"]\", '')\n",
    "    ar = [float(i) for i in data.split(\" \") if i]\n",
    "    reference_face_descriptor =np.array(ar)\n",
    "greeted = False\n",
    "\n",
    "if not greeted:\n",
    "    speak(\"Добро пожаловать!\")          \n",
    "    greeted = True\n",
    "cap = cv2.VideoCapture(0)\n",
    "\n",
    "while True:\n",
    "    found_your_face = False\n",
    "    ret, frame = cap.read()\n",
    "    frame_rgb = cv2.cvtColor(frame, cv2.COLOR_BGR2RGB)\n",
    "    faces = detector(frame_rgb, 1)\n",
    "    for face in faces:\n",
    "        shape = sp(frame_rgb, face)\n",
    "        face_descriptor = facerec.compute_face_descriptor(frame_rgb, shape)\n",
    "        face_vector = np.array(face_descriptor)\n",
    "        distance = np.linalg.norm(reference_face_descriptor - face_vector)\n",
    "\n",
    "    distance = 0.3\n",
    "    if distance < 0.4:  # Порог можно настроить\n",
    "           \n",
    "        \n",
    "        speak('пожаловать!')\n",
    "        va()\n",
    "        break\n",
    "    else:\n",
    "        speak(\"not your face\") \n",
    "        speak(\"5. 4. 3. 2. 1. \")\n",
    "        break\n",
    "    \n",
    "cap.release()\n",
    "cv2.destroyAllWindows()"
   ]
  },
  {
   "cell_type": "code",
   "execution_count": 10,
   "id": "7123ec96",
   "metadata": {},
   "outputs": [],
   "source": [
    "def va():\n",
    "    while True:\n",
    "        \n",
    "        speak('Я вас слушаю')\n",
    "        query = takeCommand().lower()\n",
    "        if 'википедия'in query:\n",
    "            speak('ищу в Википедии...')\n",
    "            query = query.replace(\"википедия\",\"\")\n",
    "            wikipedia.set_lang(\"ru\")\n",
    "            try: \n",
    "                results = wikipedia.summary(query, sentences = 5)\n",
    "                speak(\"Согласно Википедии\")\n",
    "                print(results)\n",
    "                speak(results)\n",
    "            except wikipedia.exceptions.PageError:\n",
    "                    speak(\"Информация не найдена в Википедии.\")\n",
    "            except wikipedia.exceptions.DisambiguationError as e:\n",
    "                    speak(\"Уточните ваш запрос.\")\n",
    "        elif 'можешь выключить' in query:\n",
    "                speak(\"голосовой ассистент отключается!\")\n",
    "                \n",
    "                speak(\"пока, хорошего дня!\")\n",
    "                break\n",
    "        elif 'открой youtube' in query:\n",
    "                speak(\"вы переходите на Youtube \\n\")\n",
    "                webbrowser.get(\"Chrome\").open_new_tab(\"youtube.com\")\n",
    "        elif 'открой гугл' in query:\n",
    "                speak('вы переходите к Google\\n')\n",
    "                webbrowser.get(\"Chrome\").open_new_tab(\"google.com\")\n",
    "        elif 'открой stack overflow' in query or 'открой stackoverflow' in query:\n",
    "                speak(\"вы переходите к StackOverflow. ПрияCтного написания кода\")\n",
    "                webbrowser.get(\"Chrome\").open_new_tab(\"stackoverflow.com\")\n",
    "        elif 'открой орион'  in query:\n",
    "                speak(\"вы переходите к дрону\")\n",
    "                webbrowser.get(\"Chrome\").open_new_tab(p_p)\n",
    "        elif 'открой музыку' in query:\n",
    "                speak('вы переходите к музыке, приятного прослушивания музыки' )\n",
    "                music_dir = r\"C:\\Users\\user\\Desktop\\music\"\n",
    "                songs= os.listdir(music_dir)\n",
    "                print(songs)\n",
    "                num = random.randit(0,len(songs)-1)\n",
    "                os.startfile(os.path.join(music_dir, songs[num]))\n",
    "        elif 'время' in query:\n",
    "                x = datetime.datetime.now()\n",
    "                pt_time = x.strftime(\"%H:%M\")\n",
    "                speak( pt_time)\n",
    "        elif 'как дела' in query:\n",
    "                feelings= ['я в состоянии', 'со мной все в порядке', 'все хорошо', 'потрясающе', 'отлично']\n",
    "                pr_f = feelings[random.randint(0,len(feelings)-1)]\n",
    "                speak(pr_f)\n",
    "                speak(\"как у вас дела\")\n",
    "                query = takeCommand().lower()\n",
    "                if 'хорошо' in query or 'нормально' in query:\n",
    "                    speak(\" Приятно слышать, что у тебя все хорошо\")\n",
    "                elif 'плохо' in query or 'грустно':\n",
    "                    speak(\"постарайтесь взбодриться. позвольте мне рассказать вам анекдот о программировании\")\n",
    "                    translator = Translator(to_lang=\"ru\")\n",
    "                    translated_text = translator.translate(pyjokes.get_joke())\n",
    "                    speak( translated_text)\n",
    "        elif 'поменяй свое имя' in query:\n",
    "                speak(\"Как вы хотите меня называть,Сэр\")\n",
    "                name = takeCommand().lower()\n",
    "                speak(\"мое новое имя\")\n",
    "                speak(name)\n",
    "        elif \"кто создал тебя\" in query or \"кто сделал тебя\" in query:\n",
    "                 speak(\" Меня создал\")\n",
    "                 peak(user_n)\n",
    "        elif 'найди' in query :\n",
    "                query = query.replace(\"поиск\", \"\")\n",
    "                webbrowser.open(query)            \n",
    "        elif \"открой рабочую папку\" == query or \"открой папку\"==query:\n",
    "                speak(\"открываю рабочую папку\")\n",
    "                power = r\"C:\\Users\\user\\Desktop\\Аэрапорт\"\n",
    "                os.startfile(power)\n",
    "        elif \"измени обои\" in query:\n",
    "                adress = r\"C:\\Users\\user\\Pictures\"\n",
    "                files = sorted(os.listdir(adress))\n",
    "                file_num = random.randint(0,len(files)-1)\n",
    "                file_name= files[file_num]\n",
    "                path = os.path.join(adress,file_name)\n",
    "                ctypes.windll.user32.SystemParametersInfoW(20,0,path,6)\n",
    "                speak(\"обои изменины успешно\")\n",
    "        elif 'заблокируй экран' in query:\n",
    "                speak(\"Блокирование экрана\")\n",
    "                ctypes.windll.user32.LockWorkStation()\n",
    "        elif 'заверши работу' in query:\n",
    "                speak(\"Подождите пять секунд, ваша система будет выключена\")\n",
    "                speak(\"пять. четыре. три. два. один \")\n",
    "                subprocess.run([\"shutdown\", \"/s\", \"/t\", \"0\"])\n",
    "        elif 'перезагрузи систему' in query:\n",
    "                speak(\"Подождите пять секунд, ваша система будет перезагружена\")\n",
    "                speak(\"пять. четыре. три. два. один \")\n",
    "                subprocess.run([\"shutdown\", \"/r\", \"/t\", \"0\"])\n",
    "        elif 'очисти корзину' in query:\n",
    "                winshell.recycle_bin().empty(confirm = False, show_progress = False, sound = True)\n",
    "                speak(\"Корзина была очищена успешно\")\n",
    "        elif 'где' in query:\n",
    "                query = query.replace(\"где\", \"\")\n",
    "                webbrowser.open(\"https://www.google.com/maps/place/\"+query)\n",
    "        elif 'сделай снимок' in query:\n",
    "                import cv2\n",
    "                path1 = r\"D:\\img\"\n",
    "                rn_n = random.randint(0,10000000)\n",
    "                add = os.path.join(path1, \"img\"+str(rn_n)+\".jpg\")\n",
    "                cap = cv2.VideoCapture(0)\n",
    "                while True:\n",
    "                    ret, frame = cap.read()\n",
    "                    cv2.imwrite(add,frame)\n",
    "                    break\n",
    "                cap.release()\n",
    "                cv2.destroyAllWindows()\n",
    "        elif \"напиши заметку\" in query:\n",
    "            speak(\"Что мне написать в заметках\")\n",
    "            note = takeCommand()\n",
    "            txt_pth = r\"C:\\Users\\user\\Desktop\\будильник\\заметки.txt\"\n",
    "            strTime = datetime.datetime.now().strftime(\"%H_%M_%S\")\n",
    "            txt_name = \"reminder_at_\"+strTime+\".txt\"\n",
    "            r_path =os.path.join(txt_pth,txt_name) \n",
    "            speak(\"можно ли включить время\")\n",
    "            snfm = takeCommand()\n",
    "            if 'да' in snfm or 'конечно' in snfm:  \n",
    "                file = open(r_path, 'w')\n",
    "                strTime = datetime.datetime.now().strftime(\"%H:%M\")\n",
    "                file.write(strTime)\n",
    "                file.write(\" >>> \")\n",
    "                file.write(note)\n",
    "                file.close()\n",
    "            else:\n",
    "                file = open(r_path, 'w')\n",
    "                file.write(note)\n",
    "                file.close()\n",
    "        elif \"поставь будильник\" in query:\n",
    "            speak(\"в какое время поставить будьльник\")\n",
    "            a_time = takeCommand().lower()\n",
    "            a_time= a_time\n",
    "            t_path = r\"C:\\Users\\user\\Desktop\\будильник\\будильник.txt\"\n",
    "            file = open(t_path, 'w')\n",
    "            file.write(a_time)\n",
    "            file.close()   \n",
    "\n",
    "        elif \"какая погода\" in query:\n",
    "            place = str(query)\n",
    "            pl = 'Namangan'\n",
    "            api_key = \"60c078a5f6d812744e9d80a45f04e440\"\n",
    "            base_url = \"http://api.openweathermap.org/data/2.5/weather?\"\n",
    "            complete_url = base_url + \"appid=\" + api_key + \"&q=\" + pl\n",
    "            response = requests.get(complete_url)\n",
    "            x = response.json()\n",
    "            if x[\"cod\"] != \"404\":\n",
    "                y = x[\"main\"]\n",
    "                current_temperature = y[\"temp\"]\n",
    "                c_T = str(int(round(current_temperature-273.15,0)))\n",
    "                speak(\" Температура на улице\")\n",
    "                speak(c_T)\n",
    "                speak(\"Градусов цельсия.\")\n",
    "            else:\n",
    "                speak(\" Город не найден \") \n",
    "        elif \"найди\" in query:\n",
    "            st = str(query)\n",
    "            search_t = st\n",
    "            address = \"https://www.google.com/search?q=\"+search_t+\"&oq=\"+search_t+\"&gs_lcrp=EgZjaHJvbWUqEggAEAAYQxjjAhjJAxiABBiKBTISCAAQABhDGOMCGMkDGIAEGIoFMg8IARAuGEMYyQMYgAQYigUyDAgCEAAYQxiABBiKBTIMCAMQABhDGIAEGIoFMhAIBBAuGK8BGMcBGJIDGIAEMgwIBRAAGEMYgAQYigUyDwgGEC4YQxjUAhiABBiKBTIPCAcQLhhDGNQCGIAEGIoFMgcICBAAGIAEMgcICRAuGIAE0gEIMTc5MWowajeoAgiwAgE&sourceid=chrome&ie=UTF-8\"\n",
    "            webbrowser.open(address)\n"
   ]
  },
  {
   "cell_type": "code",
   "execution_count": 29,
   "id": "ade82eb0",
   "metadata": {},
   "outputs": [],
   "source": []
  },
  {
   "cell_type": "code",
   "execution_count": null,
   "id": "f4ad058d",
   "metadata": {},
   "outputs": [],
   "source": []
  }
 ],
 "metadata": {
  "kernelspec": {
   "display_name": "local-venv",
   "language": "python",
   "name": "local-venv"
  },
  "language_info": {
   "codemirror_mode": {
    "name": "ipython",
    "version": 3
   },
   "file_extension": ".py",
   "mimetype": "text/x-python",
   "name": "python",
   "nbconvert_exporter": "python",
   "pygments_lexer": "ipython3",
   "version": "3.11.3"
  }
 },
 "nbformat": 4,
 "nbformat_minor": 5
}
